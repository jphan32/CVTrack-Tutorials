{
  "nbformat": 4,
  "nbformat_minor": 0,
  "metadata": {
    "colab": {
      "provenance": [],
      "collapsed_sections": [
        "01jldHHRybIJ",
        "vu_bwQ41SSu-",
        "ET2wwYcvGa_c",
        "aclXyFg2UuCx",
        "3J2VSKH4YBos"
      ],
      "toc_visible": true
    },
    "kernelspec": {
      "name": "python3",
      "display_name": "Python 3"
    },
    "language_info": {
      "name": "python"
    }
  },
  "cells": [
    {
      "cell_type": "markdown",
      "source": [
        "# Code 셀 활용해보기"
      ],
      "metadata": {
        "id": "01jldHHRybIJ"
      }
    },
    {
      "cell_type": "code",
      "source": [
        "def sum(a, b):\n",
        "  return a + b\n",
        "\n",
        "s = sum(2, 3)"
      ],
      "metadata": {
        "id": "VH9J_3auyZ-o"
      },
      "execution_count": null,
      "outputs": []
    },
    {
      "cell_type": "code",
      "source": [
        "print(s)"
      ],
      "metadata": {
        "id": "vqntORokzPJZ"
      },
      "execution_count": null,
      "outputs": []
    },
    {
      "cell_type": "code",
      "source": [
        "my_name = \"Sangjoon\"\n",
        "my_name"
      ],
      "metadata": {
        "id": "Qswv1g6xympx"
      },
      "execution_count": null,
      "outputs": []
    },
    {
      "cell_type": "code",
      "source": [
        "print(f\"Hello {my_name}!\")"
      ],
      "metadata": {
        "id": "iP-BWOLpyt1h"
      },
      "execution_count": null,
      "outputs": []
    },
    {
      "cell_type": "code",
      "source": [
        "s += sum(s, 5)"
      ],
      "metadata": {
        "id": "ZHTETglOzRWV"
      },
      "execution_count": null,
      "outputs": []
    },
    {
      "cell_type": "markdown",
      "source": [
        "# Markdown 활용해보기\n",
        "\n",
        "Markdown은 텍스트를 서식있게 작성하기 위한 간단하고 직관적인 언어입니다.\n",
        "\n",
        "여기에는 일반 텍스트 서식, 링크, 이미지, 목록 등을 만드는 기본적인 Markdown 구문의 예제가 포함되어 있습니다.\n",
        "\n",
        "이러한 기본적인 Markdown 구문을 사용하여 문서를 서식있게 작성할 수 있습니다.\n",
        "\n",
        "Markdown은 매우 직관적이며, 이러한 기본 구문 외에도 다양한 확장 구문을 사용하여 복잡한 서식을 적용할 수 있습니다."
      ],
      "metadata": {
        "id": "vu_bwQ41SSu-"
      }
    },
    {
      "cell_type": "markdown",
      "source": [
        "Markdown 예제\n",
        "\n",
        "## 소제목\n",
        "### 더 작은 제목\n",
        "#### 더더 작은 제목\n",
        "\n",
        "일반 텍스트\n",
        "\n",
        "*이탤릭체*\n",
        "\n",
        "**볼드체**\n",
        "\n",
        "***볼드 이탤릭체***\n",
        "\n",
        "~~취소선~~\n",
        "\n",
        "> 인용문\n",
        "\n",
        "- 항목 1\n",
        "- 항목 2\n",
        "  - 하위 항목 2.1\n",
        "  - 하위 항목 2.2\n",
        "- 항목 3\n",
        "\n",
        "1. 순서 있는 항목 1\n",
        "2. 순서 있는 항목 2\n",
        "3. 순서 있는 항목 3\n",
        "\n",
        "---\n",
        "\n",
        "`inline code`\n",
        "\n",
        "```python\n",
        "import time\n",
        "\n",
        "for _ in range(5):\n",
        "  time.sleep(300)\n",
        "```\n",
        "\n",
        "[웹 링크](http://www.google.com)\n",
        "\n",
        "![이미지 설명](https://colab.research.google.com/img/colab_favicon_256px.png)"
      ],
      "metadata": {
        "id": "F6nm0-y7UO_o"
      }
    },
    {
      "cell_type": "markdown",
      "source": [
        "# Google Drive 연동하기\n",
        "\n",
        "Google Colab과 Google Drive를 연동하면 사용자는 Google Drive에서 파일을 쉽게 불러오고 저장할 수 있습니다. 이러한 연동은 Colab 노트북 내에서 직접 실행할 수 있는 코드를 통해 이루어집니다.\n",
        "\n",
        "## 스텝 바이 스텝 가이드\n",
        "- Colab 노트북을 열고, 새 셀을 생성합니다.\n",
        "- 아래의 코드를 셀에 입력하고 실행합니다.\n",
        "- 코드 실행 후, 출력된 링크를 클릭합니다.\n",
        "- 링크 클릭 시 나타나는 페이지에서 사용자의 Google 계정을 선택하고, '허용'을 클릭합니다.\n",
        "- 생성된 인증 코드를 복사하고, Colab 노트북에 붙여넣어 연동을 완료합니다.\n",
        "- 이제 Google Drive의 파일을 Colab에서 접근할 수 있습니다.\n",
        "\n",
        "\n",
        "\n"
      ],
      "metadata": {
        "id": "ET2wwYcvGa_c"
      }
    },
    {
      "cell_type": "code",
      "source": [
        "# Google Drive를 마운트하기\n",
        "from google.colab import drive\n",
        "drive.mount('/content/drive', force_remount=True)\n",
        "\n",
        "# 이제 Google Drive에서 파일을 불러올 수 있습니다.\n",
        "# 예를 들어, 아래의 코드는 Google Drive의 'My Drive' 폴더에 있는 'example.txt' 파일을 불러옵니다.\n",
        "with open('/content/drive/My Drive/examples.txt', 'r') as file:\n",
        "    data = file.read()\n",
        "\n",
        "# 출력하여 확인\n",
        "print(data)"
      ],
      "metadata": {
        "id": "P5778lrpH_ty"
      },
      "execution_count": null,
      "outputs": []
    },
    {
      "cell_type": "markdown",
      "source": [
        "심볼릭 링크를 생성하면 보다 쉽게 경로 접근을 할 수 있습니다."
      ],
      "metadata": {
        "id": "bFr9ntK7KW0A"
      }
    },
    {
      "cell_type": "code",
      "source": [
        "import os, errno\n",
        "\n",
        "def symlink_force(target, link_name):\n",
        "    try:\n",
        "        os.symlink(target, link_name)\n",
        "    except OSError as e:\n",
        "        if e.errno == errno.EEXIST:\n",
        "            os.remove(link_name)\n",
        "            os.symlink(target, link_name)\n",
        "        else:\n",
        "            raise e\n",
        "\n",
        "\n",
        "#@markdown ### Google Drive 경로 지정\n",
        "folder_path = \"ETRI SW-SoC\" #@param {type:\"string\"}\n",
        "\n",
        "# 심볼릭 링크 생성을 통해 특정 폴더 연동\n",
        "symlink_force(f'/content/drive/My Drive/{folder_path}', '/content/gdrive')\n",
        "\n",
        "with open('/content/gdrive/examples.txt', 'r') as file:\n",
        "    data = file.read()\n",
        "\n",
        "# 출력하여 확인\n",
        "print(data)"
      ],
      "metadata": {
        "id": "9h3YdlTdJrig"
      },
      "execution_count": null,
      "outputs": []
    },
    {
      "cell_type": "markdown",
      "source": [
        "# Colab 리소스 확인해보기\n",
        "\n",
        "Google Colab에서 시스템의 CPU, GPU, TPU 그리고 디스크 드라이브, 메모리와 같은 HW 리소스를 확인해보고,\n",
        "\n",
        "운영체제 및 설치된 라이브러리에 대한 정보를 확인하려면 다양한 명령어와 라이브러리를 사용할 수 있습니다.\n",
        "\n",
        "아래 예제 코드와 설명을 참조하세요."
      ],
      "metadata": {
        "id": "aclXyFg2UuCx"
      }
    },
    {
      "cell_type": "code",
      "source": [
        "#@markdown ### CPU 정보 확인\n",
        "\n",
        "!lscpu"
      ],
      "metadata": {
        "cellView": "form",
        "id": "r6An7fMBVvIh"
      },
      "execution_count": null,
      "outputs": []
    },
    {
      "cell_type": "code",
      "source": [
        "#@markdown ### GPU 정보 확인\n",
        "\n",
        "!nvidia-smi"
      ],
      "metadata": {
        "cellView": "form",
        "id": "VwQDT9GOWZML"
      },
      "execution_count": null,
      "outputs": []
    },
    {
      "cell_type": "code",
      "source": [
        "#@markdown ### 디스크 사용량 확인\n",
        "\n",
        "!df -h"
      ],
      "metadata": {
        "cellView": "form",
        "id": "8JhX8AjUWdKQ"
      },
      "execution_count": null,
      "outputs": []
    },
    {
      "cell_type": "code",
      "source": [
        "#@markdown ### 메모리 사용량 확인\n",
        "\n",
        "!free -h"
      ],
      "metadata": {
        "cellView": "form",
        "id": "EO5RNB8fWhtL"
      },
      "execution_count": null,
      "outputs": []
    },
    {
      "cell_type": "code",
      "source": [
        "#@markdown ### 운영체제 정보 확인\n",
        "\n",
        "!cat /etc/os-release"
      ],
      "metadata": {
        "cellView": "form",
        "id": "j04HTVyjWlSS"
      },
      "execution_count": null,
      "outputs": []
    },
    {
      "cell_type": "code",
      "source": [
        "#@markdown ### 파이썬 버전 확인\n",
        "\n",
        "!python --version"
      ],
      "metadata": {
        "cellView": "form",
        "id": "4xIx_3DRWqa-"
      },
      "execution_count": null,
      "outputs": []
    },
    {
      "cell_type": "code",
      "source": [
        "#@markdown ### 설치된 파이썬 라이브러리 목록 확인\n",
        "\n",
        "!pip freeze"
      ],
      "metadata": {
        "cellView": "form",
        "id": "IeFBf2ZmWsZf"
      },
      "execution_count": null,
      "outputs": []
    },
    {
      "cell_type": "markdown",
      "source": [
        "# 라이브러리 설치하기\n",
        "\n",
        "pip 또는 apt 명령으로 필요한 라이브러리를 설치할 수 있습니다.\n",
        "\n",
        "또 필요한 경우 git 명령을 이용하여 소스코드를 받을 수 있습니다."
      ],
      "metadata": {
        "id": "3J2VSKH4YBos"
      }
    },
    {
      "cell_type": "code",
      "source": [
        "#@markdown ### 유용한 라이브러리 설치하기\n",
        "#@markdown - 설치 과정을 보여준 후, 로그를 삭제할 수 있습니다.\n",
        "\n",
        "#@markdown [Color code 참조](https://www.codeproject.com/Articles/5329247/How-to-Change-Text-Color-in-a-Linux-Terminal)\n",
        "\n",
        "from IPython.display import clear_output\n",
        "import ipywidgets as widgets\n",
        "\n",
        "def inf(msg, style, wdth): inf = widgets.Button(description=msg, disabled=True, button_style=style, layout=widgets.Layout(min_width=wdth));display(inf)\n",
        "C_default = \"\\033[0;39m\"\n",
        "C_yellow = \"\\033[1;93m\"\n",
        "\n",
        "# START HERE\n",
        "\n",
        "print(C_yellow + \"Install...\" + C_default)\n",
        "\n",
        "!pip install wandb\n",
        "\n",
        "# END CODE\n",
        "\n",
        "clear_output()\n",
        "inf('\\u2714 Done', 'success', '50px')"
      ],
      "metadata": {
        "cellView": "form",
        "id": "jZ4UdTS7ZOQy"
      },
      "execution_count": null,
      "outputs": []
    },
    {
      "cell_type": "markdown",
      "source": [
        "# SSH를 통해 Colab 접속하기\n",
        "\n",
        "기본적으로 Colab은 웹브라우저를 이용하여 사용하도록 되어있지만, 하나의 가상 서버이므로 SSH 서버를 실행하여 원격 터미널로 접속할 수 있습니다.\n",
        "\n",
        "그러기 위해 다음의 몇 가지 준비가 필요합니다."
      ],
      "metadata": {
        "id": "5cnlDFKCY5Fs"
      }
    },
    {
      "cell_type": "code",
      "source": [
        "#@title  SSH 서버 + NGROK 설치 및 설정\n",
        "\n",
        "from IPython.display import clear_output\n",
        "import ipywidgets as widgets\n",
        "\n",
        "def inf(msg, style, wdth): inf = widgets.Button(description=msg, disabled=True, button_style=style, layout=widgets.Layout(min_width=wdth));display(inf)\n",
        "C_default = \"\\033[0;39m\"\n",
        "C_yellow = \"\\033[1;93m\"\n",
        "\n",
        "# START HERE\n",
        "\n",
        "print(C_yellow + \"Install...\" + C_default)\n",
        "\n",
        "# SSH Server 설치\n",
        "!apt install -y ssh tmux vim\n",
        "!sed -i 's/#PermitRootLogin prohibit-password/PermitRootLogin yes/g' /etc/ssh/sshd_config\n",
        "\n",
        "# root 계정 패스워드 설정\n",
        "from google.colab import userdata\n",
        "passwd = userdata.get('ssh_passwd')\n",
        "!echo \"root:{passwd}\" | chpasswd\n",
        "\n",
        "# SSH Server 실행\n",
        "!service ssh start\n",
        "\n",
        "# NGROK 설치\n",
        "import os\n",
        "\n",
        "ngrok_path = \"/content/gdrive/lib/ngrok\"\n",
        "\n",
        "if not os.path.isfile(ngrok_path + '/ngrok'):\n",
        "  !mkdir -p {ngrok_path}\n",
        "  %cd {ngrok_path}\n",
        "  !wget https://bin.equinox.io/c/bNyj1mQVY4c/ngrok-v3-stable-linux-amd64.tgz -O ngrok-v3-stable-linux-amd64.tgz\n",
        "  !tar -zxvf ngrok-v3-stable-linux-amd64.tgz\n",
        "\n",
        "  content = \"\"\"version: 1\n",
        "tunnels:\n",
        "  ssh:\n",
        "    proto: tcp\n",
        "    addr: 22\"\"\"\n",
        "  with open(ngrok_path + '/ssh.yml', 'w') as file:\n",
        "    file.write(content)\n",
        "\n",
        "# END CODE\n",
        "\n",
        "clear_output()\n",
        "inf('\\u2714 Done', 'success', '50px')"
      ],
      "metadata": {
        "cellView": "form",
        "id": "VWQuO0S2YUQv"
      },
      "execution_count": null,
      "outputs": []
    },
    {
      "cell_type": "code",
      "source": [
        "#@title  NGROK 실행 스크립트 작성\n",
        "%%writefile /content/gdrive/lib/ngrok/run_ngrok.sh\n",
        "#!/bin/sh\n",
        "set -x\n",
        "/ngrok start --config ~/.config/ngrok/ngrok.yml --config /content/gdrive/lib/ngrok/ssh.yml --log=stdout \"$@\""
      ],
      "metadata": {
        "cellView": "form",
        "id": "KSKr4ms2vQOy"
      },
      "execution_count": null,
      "outputs": []
    },
    {
      "cell_type": "code",
      "source": [
        "#@title  NGROK 가입 및 토큰 설정\n",
        "#@markdown  사이트 가입 : https://ngrok.com\n",
        "\n",
        "#@markdown  토큰 확인 : https://dashboard.ngrok.com/auth\n",
        "\n",
        "# NGROK 실행 파일 링크\n",
        "ngrok_path = \"/content/gdrive/lib/ngrok\" #@param {type:\"string\"}\n",
        "!cp {ngrok_path}/ngrok /ngrok\n",
        "!chmod +x /ngrok\n",
        "\n",
        "# NGROK 로그인\n",
        "ngrok_token = \"YOUR_NGROK_TOKEN\" #@param {type:\"string\"}\n",
        "!/ngrok authtoken \"{ngrok_token}\""
      ],
      "metadata": {
        "cellView": "form",
        "id": "lJSa-Is_kkcR"
      },
      "execution_count": null,
      "outputs": []
    },
    {
      "cell_type": "code",
      "source": [
        "#@title  NGROK 실행\n",
        "get_ipython().system_raw(f'bash {ngrok_path}/run_ngrok.sh ssh &')"
      ],
      "metadata": {
        "cellView": "form",
        "id": "ZaEPzRXzkwG4"
      },
      "execution_count": null,
      "outputs": []
    },
    {
      "cell_type": "code",
      "source": [
        "#@title  SSH 접속 경로 확인\n",
        "import requests\n",
        "import urllib.parse\n",
        "\n",
        "def get_ngrok_info():\n",
        "  return requests.get('http://localhost:4040/api/tunnels').json()\n",
        "\n",
        "def get_ngrok_tunnels():\n",
        "  for tunnel in get_ngrok_info()['tunnels']:\n",
        "    name = tunnel['name']\n",
        "    yield name, tunnel\n",
        "\n",
        "def get_ngrok_tunnel(name):\n",
        "  for name1, tunnel in get_ngrok_tunnels():\n",
        "    if name == name1:\n",
        "      return tunnel\n",
        "\n",
        "def get_ngrok_url(name, local=False):\n",
        "  if local:\n",
        "    return get_ngrok_tunnel(name)['config']['addr']\n",
        "  else:\n",
        "    return get_ngrok_tunnel(name)['public_url']\n",
        "\n",
        "\n",
        "public_url, public_port = urllib.parse.urlparse(get_ngrok_url('ssh')).netloc.split(':')\n",
        "print('To SSH into this colab instance, run the following command on your local machine:')\n",
        "print('  ssh -p {} root@{}'.format(public_port, public_url))"
      ],
      "metadata": {
        "cellView": "form",
        "id": "3Gl-m_uB8pr6"
      },
      "execution_count": null,
      "outputs": []
    },
    {
      "cell_type": "code",
      "source": [
        "# 접속 종료 방지...\n",
        "import time\n",
        "while True:\n",
        "  time.sleep(600)"
      ],
      "metadata": {
        "id": "rFUu05OQ7wiM"
      },
      "execution_count": null,
      "outputs": []
    }
  ]
}