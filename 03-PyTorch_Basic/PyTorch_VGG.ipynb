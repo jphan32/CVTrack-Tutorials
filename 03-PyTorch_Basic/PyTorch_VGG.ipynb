{
  "nbformat": 4,
  "nbformat_minor": 0,
  "metadata": {
    "colab": {
      "provenance": [],
      "gpuType": "T4"
    },
    "kernelspec": {
      "name": "python3",
      "display_name": "Python 3"
    },
    "language_info": {
      "name": "python"
    },
    "accelerator": "GPU"
  },
  "cells": [
    {
      "cell_type": "markdown",
      "source": [
        "# Cat vs Dog Classification\n",
        "\n",
        "![Cat-vs-Dog](https://www.researchgate.net/profile/Atul-Sharma-77/publication/353247632/figure/fig2/AS:1045582240026626@1626297640509/Classification-of-two-classes-dog-and-cat-using-CNN.jpg)\n",
        "\n",
        "## 목표 : 주어진 사진이 Cat vs Dog 중 어떤 사진인지 분류할 수 있는 모델을 만들기\n",
        "\n",
        "## 데이터셋 : Kaggle Cat and Dog 데이터셋을 활용해보기\n",
        "[Kaggle Cat and Dog](https://www.kaggle.com/datasets/tongpython/cat-and-dog/)\n",
        "\n",
        "---\n",
        "\n",
        "- Kaggle이란?\n",
        "  - Kaggle는 2010년에 설립된 예측모델 및 분석 대회 플랫폼으로, 기업이나 단체들이 데이터와 해결 과제를 등록하고 데이터 과학자들이 이를 해결하기 위한 모델을 개발하며 경쟁하는 플랫폼\n",
        "  - Microsoft Kinect의 제스처 인식 개선, Manchester City의 축구 AI 만들기, Two Sigma Investments를 위한 거래 알고리즘 코딩, CERN에서의 힉스 보손 탐색 개선 등 다양한 대회를 개최하고 있음\n",
        "  - 2017년 구글에 인수, 194개국에 걸쳐 2023년 10월 기준으로 1500만 명이 넘는 등록 사용자를 보유"
      ],
      "metadata": {
        "id": "1hbBRm33EHbn"
      }
    },
    {
      "cell_type": "code",
      "source": [
        "#@title 라이브러리 Import\n",
        "\n",
        "import os\n",
        "import glob\n",
        "\n",
        "from PIL import Image\n",
        "import matplotlib.pyplot as plt\n",
        "from tqdm.notebook import tqdm\n",
        "\n",
        "import torch\n",
        "import torch.nn as nn\n",
        "import torch.optim as optim\n",
        "import torch.utils.data as data\n",
        "import torch.nn.functional as F\n",
        "import torchvision\n",
        "from torchvision import models, transforms\n",
        "from torchsummary import summary"
      ],
      "metadata": {
        "id": "ZfrbLG5DTswI"
      },
      "execution_count": null,
      "outputs": []
    },
    {
      "cell_type": "code",
      "execution_count": null,
      "metadata": {
        "cellView": "form",
        "id": "9blLlQjFcxvg"
      },
      "outputs": [],
      "source": [
        "#@title Google Drive 연결\n",
        "\n",
        "# Google Drive를 마운트하기\n",
        "import os, errno\n",
        "from google.colab import drive\n",
        "\n",
        "def symlink_force(target, link_name):\n",
        "    try:\n",
        "        os.symlink(target, link_name)\n",
        "    except OSError as e:\n",
        "        if e.errno == errno.EEXIST:\n",
        "            os.remove(link_name)\n",
        "            os.symlink(target, link_name)\n",
        "        else:\n",
        "            raise e\n",
        "\n",
        "drive.mount('/content/drive', force_remount=True)\n",
        "\n",
        "#@markdown ### Google Drive 경로 지정\n",
        "folder_path = \"ETRI SW-SoC\" #@param {type:\"string\"}\n",
        "\n",
        "# 심볼릭 링크 생성을 통해 특정 폴더 연동\n",
        "symlink_force(f'/content/drive/My Drive/{folder_path}', '/content/gdrive')"
      ]
    },
    {
      "cell_type": "code",
      "source": [
        "#@title [Optional] Google Drive 에서 Colab 환경으로 데이터 복사\n",
        "!cp -rf 'gdrive/dataset/cat-vs-dog' 'cat-vs-dog'"
      ],
      "metadata": {
        "id": "z690mEPr10Nn"
      },
      "execution_count": null,
      "outputs": []
    },
    {
      "cell_type": "code",
      "source": [
        "#@title 데이터 폴더 확인 및 데이터 파일 목록 생성\n",
        "\n",
        "#base_dir = 'gdrive/dataset/cat-vs-dog'\n",
        "base_dir = 'cat-vs-dog'\n",
        "\n",
        "train_dir = base_dir + '/training_set'\n",
        "test_dir = base_dir + '/test_set'\n",
        "print(os.listdir(train_dir))\n",
        "\n",
        "train_list = glob.glob(os.path.join(train_dir, 'dogs/*.jpg')) + glob.glob(os.path.join(train_dir, 'cats/*.jpg'))\n",
        "val_list = glob.glob(os.path.join(test_dir, 'dogs/*.jpg')) + glob.glob(os.path.join(test_dir, 'cats/*.jpg'))\n",
        "print(train_list[:5])"
      ],
      "metadata": {
        "id": "5vmMqbDlTnyr"
      },
      "execution_count": null,
      "outputs": []
    },
    {
      "cell_type": "code",
      "source": [
        "img = Image.open(train_list[0])\n",
        "#img = Image.open(train_list[-10])\n",
        "plt.imshow(img)\n",
        "plt.axis('off')\n",
        "plt.show()"
      ],
      "metadata": {
        "id": "a3f-Qtc7XhfP"
      },
      "execution_count": null,
      "outputs": []
    },
    {
      "cell_type": "code",
      "source": [
        "#@title 데이터 변환 및 증강\n",
        "\n",
        "class ImageTransform():\n",
        "    def __init__(self, resize, mean, std):\n",
        "        self.data_transform = {\n",
        "            'train': transforms.Compose([\n",
        "                transforms.RandomResizedCrop(resize, scale=(0.5, 1.0)),\n",
        "                transforms.RandomHorizontalFlip(),\n",
        "                transforms.ToTensor(),\n",
        "                transforms.Normalize(mean, std)\n",
        "            ]),\n",
        "            'val': transforms.Compose([\n",
        "                transforms.Resize(256),\n",
        "                transforms.CenterCrop(resize),\n",
        "                transforms.ToTensor(),\n",
        "                transforms.Normalize(mean, std)\n",
        "            ])\n",
        "        }\n",
        "\n",
        "    def __call__(self, img, phase):\n",
        "        return self.data_transform[phase](img)"
      ],
      "metadata": {
        "id": "LgRYmWtNtXSO"
      },
      "execution_count": null,
      "outputs": []
    },
    {
      "cell_type": "code",
      "source": [
        "#@title 데이터셋 및 데이터 로더\n",
        "\n",
        "class DogvsCatDataset(data.Dataset):\n",
        "    def __init__(self, file_list, transform=None, phase='train'):\n",
        "        self.file_list = file_list\n",
        "        self.transform = transform\n",
        "        self.phase = phase\n",
        "\n",
        "    def __len__(self):\n",
        "        return len(self.file_list)\n",
        "\n",
        "    def __getitem__(self, idx):\n",
        "\n",
        "        img_path = self.file_list[idx]\n",
        "        img = Image.open(img_path)\n",
        "\n",
        "        img = self.transform(img, self.phase)\n",
        "\n",
        "        # Get Label\n",
        "        label = img_path.split('/')[-1].split('.')[0]\n",
        "        if label == 'dog':\n",
        "            label = 1\n",
        "        elif label == 'cat':\n",
        "            label = 0\n",
        "\n",
        "        return img, label"
      ],
      "metadata": {
        "id": "2ZTUDEY8skoS"
      },
      "execution_count": null,
      "outputs": []
    },
    {
      "cell_type": "markdown",
      "source": [
        "## VGG16 Model Architecture\n",
        "\n",
        "![VGG16](https://github.com/jphan32/CVTrack-Tutorials/blob/main/resources/vgg16.png?raw=true)\n",
        "\n",
        "```\n",
        "VGG16(\n",
        "  (layer1): Sequential(\n",
        "    (0): Conv2d(3, 64, kernel_size=(3, 3), stride=(1, 1), padding=(1, 1))\n",
        "    (1): ReLU()\n",
        "  )\n",
        "  (layer2): Sequential(\n",
        "    (0): Conv2d(64, 64, kernel_size=(3, 3), stride=(1, 1), padding=(1, 1))\n",
        "    (1): ReLU()\n",
        "    (2): MaxPool2d(kernel_size=2, stride=2, padding=0, dilation=1, ceil_mode=False)\n",
        "  )\n",
        "  (layer3): Sequential(\n",
        "    (0): Conv2d(64, 128, kernel_size=(3, 3), stride=(1, 1), padding=(1, 1))\n",
        "    (1): ReLU()\n",
        "  )\n",
        "  (layer4): Sequential(\n",
        "    (0): Conv2d(128, 128, kernel_size=(3, 3), stride=(1, 1), padding=(1, 1))\n",
        "    (1): ReLU()\n",
        "    (2): MaxPool2d(kernel_size=2, stride=2, padding=0, dilation=1, ceil_mode=False)\n",
        "  )\n",
        "  (layer5): Sequential(\n",
        "    (0): Conv2d(128, 256, kernel_size=(3, 3), stride=(1, 1), padding=(1, 1))\n",
        "    (1): ReLU()\n",
        "  )\n",
        "  (layer6): Sequential(\n",
        "    (0): Conv2d(256, 256, kernel_size=(3, 3), stride=(1, 1), padding=(1, 1))\n",
        "    (1): ReLU()\n",
        "  )\n",
        "  (layer7): Sequential(\n",
        "    (0): Conv2d(256, 256, kernel_size=(3, 3), stride=(1, 1), padding=(1, 1))\n",
        "    (1): ReLU()\n",
        "    (2): MaxPool2d(kernel_size=2, stride=2, padding=0, dilation=1, ceil_mode=False)\n",
        "  )\n",
        "  (layer8): Sequential(\n",
        "    (0): Conv2d(256, 512, kernel_size=(3, 3), stride=(1, 1), padding=(1, 1))\n",
        "    (1): ReLU()\n",
        "  )\n",
        "  (layer9): Sequential(\n",
        "    (0): Conv2d(512, 512, kernel_size=(3, 3), stride=(1, 1), padding=(1, 1))\n",
        "    (1): ReLU()\n",
        "  )\n",
        "  (layer10): Sequential(\n",
        "    (0): Conv2d(512, 512, kernel_size=(3, 3), stride=(1, 1), padding=(1, 1))\n",
        "    (1): ReLU()\n",
        "    (2): MaxPool2d(kernel_size=2, stride=2, padding=0, dilation=1, ceil_mode=False)\n",
        "  )\n",
        "  (layer11): Sequential(\n",
        "    (0): Conv2d(512, 512, kernel_size=(3, 3), stride=(1, 1), padding=(1, 1))\n",
        "    (1): ReLU()\n",
        "  )\n",
        "  (layer12): Sequential(\n",
        "    (0): Conv2d(512, 512, kernel_size=(3, 3), stride=(1, 1), padding=(1, 1))\n",
        "    (1): ReLU()\n",
        "  )\n",
        "  (layer13): Sequential(\n",
        "    (0): Conv2d(512, 512, kernel_size=(3, 3), stride=(1, 1), padding=(1, 1))\n",
        "    (1): ReLU()\n",
        "    (2): MaxPool2d(kernel_size=2, stride=2, padding=0, dilation=1, ceil_mode=False)\n",
        "  )\n",
        "  (fc): Sequential(\n",
        "    (0): Dropout(p=0.5, inplace=False)\n",
        "    (1): Linear(in_features=25088, out_features=4096, bias=True)\n",
        "    (2): ReLU()\n",
        "  )\n",
        "  (fc1): Sequential(\n",
        "    (0): Dropout(p=0.5, inplace=False)\n",
        "    (1): Linear(in_features=4096, out_features=4096, bias=True)\n",
        "    (2): ReLU()\n",
        "  )\n",
        "  (fc2): Sequential(\n",
        "    (0): Linear(in_features=4096, out_features=2, bias=True)\n",
        "  )\n",
        ")\n",
        "```"
      ],
      "metadata": {
        "id": "2plepZgEuqR-"
      }
    },
    {
      "cell_type": "code",
      "source": [
        "#@title 모델\n",
        "\n",
        "class VGG16(nn.Module):\n",
        "    def __init__(self, num_classes=10):\n",
        "        super(VGG16, self).__init__()\n",
        "\n",
        "        # nn.Sequential\n",
        "        # nn.Conv2d\n",
        "        # nn.ReLU\n",
        "        # nn.MaxPool2d\n",
        "        # nn.Linear\n",
        "        #\n",
        "\n",
        "        self.layer1 = nn.Sequential(\n",
        "            nn.Conv2d(3, 64, kernel_size=3, stride=1, padding=1),\n",
        "            nn.ReLU())\n",
        "\n",
        "        self.layer2 =\n",
        "          ...\n",
        "          CODE_HERE\n",
        "          ...\n",
        "        self.fc1 =\n",
        "          ...\n",
        "          CODE_HERE\n",
        "          ...\n",
        "\n",
        "        self.fc2 = nn.Sequential(\n",
        "            nn.Linear(4096, num_classes))\n",
        "\n",
        "    def forward(self, x):\n",
        "        out = self.layer1(x)\n",
        "        ...\n",
        "        CODE_HERE\n",
        "        ...\n",
        "        out = self.fc2(out)\n",
        "        return out"
      ],
      "metadata": {
        "id": "vw0pC2eSuCYV"
      },
      "execution_count": null,
      "outputs": []
    },
    {
      "cell_type": "code",
      "source": [
        "#@title Config\n",
        "\n",
        "device = torch.device(\"cuda\" if torch.cuda.is_available() else \"cpu\")\n",
        "\n",
        "size = 224\n",
        "mean = (0.485, 0.456, 0.406)\n",
        "std = (0.229, 0.224, 0.225)\n",
        "batch_size = 32\n",
        "num_epoch = 100"
      ],
      "metadata": {
        "id": "Nr1CJ-RAtm1z"
      },
      "execution_count": null,
      "outputs": []
    },
    {
      "cell_type": "code",
      "source": [
        "train_dataset = DogvsCatDataset(train_list, transform=ImageTransform(size, mean, std), phase='train')\n",
        "val_dataset = DogvsCatDataset(val_list, transform=ImageTransform(size, mean, std), phase='val')\n",
        "\n",
        "train_dataloader = data.DataLoader(train_dataset, batch_size=batch_size, shuffle=True)\n",
        "val_dataloader = data.DataLoader(val_dataset, batch_size=batch_size)"
      ],
      "metadata": {
        "id": "ezaYWlx7trR3"
      },
      "execution_count": null,
      "outputs": []
    },
    {
      "cell_type": "code",
      "source": [
        "model = VGG16(num_classes=2).to(device)\n",
        "summary(model, (3, 224, 224))"
      ],
      "metadata": {
        "id": "r5mRgXLrt3OS"
      },
      "execution_count": null,
      "outputs": []
    },
    {
      "cell_type": "code",
      "source": [
        "criterion = nn.CrossEntropyLoss()\n",
        "optimizer = optim.Adam(model.parameters(), lr=0.001, betas=(0.9, 0.999), eps=1e-08, weight_decay=0, amsgrad=False)"
      ],
      "metadata": {
        "id": "RtozOtnbxNKv"
      },
      "execution_count": null,
      "outputs": []
    },
    {
      "cell_type": "code",
      "source": [
        "for epoch in range(num_epoch):\n",
        "    print('Epoch {}/{}'.format(epoch + 1, num_epoch))\n",
        "    print('-'*20)\n",
        "\n",
        "    model.train()\n",
        "\n",
        "    epoch_loss = 0.0\n",
        "    epoch_corrects = 0\n",
        "\n",
        "    for inputs, labels in tqdm(train_dataloader):\n",
        "      inputs = inputs.to(device)\n",
        "      labels = labels.to(device)\n",
        "\n",
        "      optimizer.zero_grad()\n",
        "\n",
        "      outputs = model(inputs)\n",
        "      loss = criterion(outputs, labels)\n",
        "      loss.backward()\n",
        "\n",
        "      optimizer.step()"
      ],
      "metadata": {
        "id": "rXSuqNGiyEx4"
      },
      "execution_count": null,
      "outputs": []
    }
  ]
}