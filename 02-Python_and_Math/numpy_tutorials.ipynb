{
  "nbformat": 4,
  "nbformat_minor": 0,
  "metadata": {
    "colab": {
      "provenance": [],
      "toc_visible": true
    },
    "kernelspec": {
      "name": "python3",
      "display_name": "Python 3"
    },
    "language_info": {
      "name": "python"
    }
  },
  "cells": [
    {
      "cell_type": "markdown",
      "source": [
        "# Numpy Basic\n",
        "\n",
        "Numpy는 수치 계산을 위한 핵심 라이브러리로서, 배열(array)을 중심으로 다양한 연산과 처리를 수행할 수 있습니다.\n",
        "\n",
        "다음은 Numpy의 기초부터 응용까지에 대한 상세한 설명과 실습 코드 예제입니다."
      ],
      "metadata": {
        "id": "AXgU4nhXBOrJ"
      }
    },
    {
      "cell_type": "code",
      "source": [
        "#@title Numpy 라이브러리 불러오기\n",
        "\n",
        "import numpy as np"
      ],
      "metadata": {
        "id": "nMxTHiEGQCXu"
      },
      "execution_count": null,
      "outputs": []
    },
    {
      "cell_type": "markdown",
      "source": [
        "## 배열 생성\n",
        "- numpy.array(): 리스트나 튜플로부터 배열을 생성\n",
        "- numpy.zeros(), numpy.ones(), numpy.empty(): 주어진 형태와 타입의 새 배열을 생성하며, 초기화하지 않거나 0, 1로 초기화\n",
        "- numpy.arange(), numpy.linspace(): 연속적인 값들로 구성된 배열 생성\n",
        "- numpy.random.random(): 무작위 값들로 구성된 배열 생성\n",
        "\n",
        "#### 배열의 모양\n",
        "![배열의 모양](https://github.com/jphan32/CVTrack-Tutorials/blob/main/resources/nparr1.png?raw=true)\n",
        "\n",
        "#### 용어의 정리\n",
        "- 벡터(Vector): 1차원 배열\n",
        "- 행렬(Matrix): 2차원 배열\n",
        "- 텐서(Tensor): 3차원 이상의 배열을 포함하여, 벡터와 행렬을 포괄하는 일반적인 용어"
      ],
      "metadata": {
        "id": "iPrFUcP8UDTN"
      }
    },
    {
      "cell_type": "code",
      "execution_count": null,
      "metadata": {
        "id": "d6h-i88NBOC0"
      },
      "outputs": [],
      "source": [
        "a = np.array([7, 2, 9, 10])\n",
        "b = np.zeros((2, 3))\n",
        "c = np.ones((4, 3, 2))\n",
        "d = np.empty((2, 2))\n",
        "e = np.arange(10, 30, 5) # numpy.arange ([start, ]stop, [step, ]dtype=None)\n",
        "f = np.linspace(0, 2, 9) # numpy.linspace(start, stop, num=50, endpoint=True, retstep=False, dtype=None, axis=0)\n",
        "g = np.random.random((2,2))\n",
        "\n",
        "print(f\"a: {a}\\n\") # 1차원 배열\n",
        "print(f\"b: {b}\\n\") # shape 지정 + zero\n",
        "print(f\"c: {c}\\n\") # shape 지정 + one\n",
        "print(f\"d: {d}\\n\") # shape 지정\n",
        "print(f\"e: {e}\\n\") # 주어진 간격에 따라 균일한 값들의 배열\n",
        "print(f\"f: {f}\\n\") # 지정된 수의 균일하게 간격을 둔 숫자를 생성한 배열\n",
        "print(f\"g: {g}\\n\") # shape 지정 + random"
      ]
    },
    {
      "cell_type": "markdown",
      "source": [
        "## 배열 조작\n",
        "- reshape(): 배열의 형태 변경\n",
        "- flatten(): 배열을 1차원으로 평평하게 만듦\n",
        "- concatenate(), vstack(), hstack(): 배열 합치기\n",
        "- split(), vsplit(), hsplit(): 배열 분리"
      ],
      "metadata": {
        "id": "dAC2Y9GcUOb6"
      }
    },
    {
      "cell_type": "code",
      "source": [
        "a = np.random.random((4, 2))\n",
        "print(a)\n",
        "print(f\"shape: {a.shape}\")"
      ],
      "metadata": {
        "id": "yNmjKBw5TkQy"
      },
      "execution_count": null,
      "outputs": []
    },
    {
      "cell_type": "code",
      "source": [
        "reshaped = a.reshape(1, 2, 4)\n",
        "print(reshaped)\n",
        "print(f\"shape: {reshaped.shape}\")"
      ],
      "metadata": {
        "id": "pgfqwKFkUhk2"
      },
      "execution_count": null,
      "outputs": []
    },
    {
      "cell_type": "code",
      "source": [
        "flattened = a.flatten()\n",
        "print(flattened)\n",
        "print(f\"shape: {flattened.shape}\")"
      ],
      "metadata": {
        "id": "jgU6hYurVDHF"
      },
      "execution_count": null,
      "outputs": []
    },
    {
      "cell_type": "code",
      "source": [
        "b = np.random.random((4, 2))\n",
        "print(b)\n",
        "print(f\"shape: {b.shape}\")"
      ],
      "metadata": {
        "id": "5fBXHOBQVLO2"
      },
      "execution_count": null,
      "outputs": []
    },
    {
      "cell_type": "markdown",
      "source": [
        "#### 배열을 합치거나 분리할때 주의사항\n",
        "- 가능한 조건: 연결하려는 축을 제외한 나머지 차원의 크기가 동일해야 합니다.\n",
        "- 불가능 조건: 연결하려는 축을 제외한 나머지 차원의 크기가 다르면 합칠 수 없습니다.\n",
        "\n",
        "#### axis 축\n",
        "![axis 축](https://github.com/jphan32/CVTrack-Tutorials/blob/main/resources/nparr2.jpg?raw=true)"
      ],
      "metadata": {
        "id": "sraCkGprWxpI"
      }
    },
    {
      "cell_type": "code",
      "source": [
        "concatenated = np.concatenate((a, b), axis=0)\n",
        "print(concatenated)\n",
        "print(f\"shape: {concatenated.shape}\")"
      ],
      "metadata": {
        "id": "i8hQ1BtZWdiX"
      },
      "execution_count": null,
      "outputs": []
    },
    {
      "cell_type": "code",
      "source": [
        "vstack = np.vstack((a, b))\n",
        "print(vstack)\n",
        "print(f\"shape: {vstack.shape}\")"
      ],
      "metadata": {
        "id": "8NypsqfQWiaR"
      },
      "execution_count": null,
      "outputs": []
    },
    {
      "cell_type": "code",
      "source": [
        "hstack = np.hstack((a, b))\n",
        "print(hstack)\n",
        "print(f\"shape: {hstack.shape}\")"
      ],
      "metadata": {
        "id": "IgA4VMPoWmmJ"
      },
      "execution_count": null,
      "outputs": []
    },
    {
      "cell_type": "code",
      "source": [
        "split = np.split(a, 2, axis=0)\n",
        "for s in split:\n",
        "  print(s)\n",
        "  print(f\"shape: {s.shape}\")\n",
        "  print('')"
      ],
      "metadata": {
        "id": "0fGtEJ_DXK6t"
      },
      "execution_count": null,
      "outputs": []
    },
    {
      "cell_type": "code",
      "source": [
        "vsplit = np.vsplit(a, 2)\n",
        "for s in vsplit:\n",
        "  print(s)\n",
        "  print(f\"shape: {s.shape}\")\n",
        "  print('')"
      ],
      "metadata": {
        "id": "EgmEalnfagKc"
      },
      "execution_count": null,
      "outputs": []
    },
    {
      "cell_type": "code",
      "source": [
        "hsplit = np.hsplit(a, 2)\n",
        "for s in hsplit:\n",
        "  print(s)\n",
        "  print(f\"shape: {s.shape}\")\n",
        "  print('')"
      ],
      "metadata": {
        "id": "jclYcbyMbZeT"
      },
      "execution_count": null,
      "outputs": []
    },
    {
      "cell_type": "markdown",
      "source": [
        "## 인덱싱과 슬라이싱\n",
        "- 인덱싱 : 인덱싱은 배열의 특정 요소에 액세스하기 위해 사용됩니다.\n",
        "- 슬라이싱 : 슬라이싱은 배열의 부분 집합을 추출하기 위해 사용됩니다."
      ],
      "metadata": {
        "id": "IJ6VYEOJ0HB1"
      }
    },
    {
      "cell_type": "code",
      "source": [
        "# 1차원 배열 생성\n",
        "arr1d = np.array([1, 2, 3, 4, 5])\n",
        "print(\"1D array:\", arr1d[2])"
      ],
      "metadata": {
        "id": "fwoibgha2EWK"
      },
      "execution_count": null,
      "outputs": []
    },
    {
      "cell_type": "code",
      "source": [
        "# 2차원 배열 생성\n",
        "arr2d = np.array([[1, 2, 3],\n",
        "                  [4, 5, 6],\n",
        "                  [7, 8, 9]])\n",
        "print(\"2D array:\", arr2d[1, 2])"
      ],
      "metadata": {
        "id": "LNjMsw5B2P8f"
      },
      "execution_count": null,
      "outputs": []
    },
    {
      "cell_type": "code",
      "source": [
        "# 1차원 배열 생성\n",
        "arr1d = np.array([1, 2, 3, 4, 5])\n",
        "print(\"1D slice:\", arr1d[1:4])"
      ],
      "metadata": {
        "id": "bDchqGDR2c_v"
      },
      "execution_count": null,
      "outputs": []
    },
    {
      "cell_type": "code",
      "source": [
        "# 2차원 배열 생성\n",
        "arr2d = np.array([[1, 2, 3],\n",
        "                  [4, 5, 6],\n",
        "                  [7, 8, 9]])\n",
        "print(\"2D slice:\", arr2d[0:2, 1:3])"
      ],
      "metadata": {
        "id": "d74mLfDU2hNh"
      },
      "execution_count": null,
      "outputs": []
    },
    {
      "cell_type": "code",
      "source": [
        "#@title [문제] 요구에 맞게 행렬 인덱싱과 슬라이싱\n",
        "\n",
        "import numpy as np\n",
        "\n",
        "# 2차원 배열 생성\n",
        "arr = np.array([[1, 2, 3, 4],\n",
        "                [5, 6, 7, 8],\n",
        "                [9, 10, 11, 12]])\n",
        "\n",
        "# 특정 요소 인덱싱\n",
        "element = arr[ CODE_HERE ]  # 7\n",
        "print(\"Indexed element:\", element)\n",
        "\n",
        "# 행 인덱싱\n",
        "row = arr[ CODE_HERE ]  # [5, 6, 7, 8]\n",
        "print(\"Indexed row:\", row)\n",
        "\n",
        "# 열 인덱싱\n",
        "column = arr[ CODE_HERE ]  # [3, 7, 11]\n",
        "print(\"Indexed column:\", column)\n",
        "\n",
        "# 부분 배열 슬라이싱\n",
        "sub_array = arr[ CODE_HERE ]  # [[2, 3], [6, 7]]\n",
        "print(\"Sliced sub-array:\\n\", sub_array)"
      ],
      "metadata": {
        "id": "yY0rMwY22mvr"
      },
      "execution_count": null,
      "outputs": []
    },
    {
      "cell_type": "markdown",
      "source": [
        "## 유니버설 함수\n",
        "[NumPy API Reference: Universal functions](https://numpy.org/doc/stable/reference/ufuncs.html)\n",
        "\n",
        "유니버설 함수(Universal Functions, ufuncs)는 NumPy에서 제공하는, 배열의 각 요소에 대해 연산을 수행하는 함수입니다. 유니버설 함수는 C 또는 C++로 구현되어 있어 높은 성능을 제공하며, 벡터화 연산을 수행하여 루프 없이 전체 배열에 대한 빠른 연산을 가능하게 합니다. 이는 대규모 데이터 세트에 대한 수학적 연산을 효율적으로 수행할 수 있게 해줍니다.\n",
        "\n",
        "### 유니버설 함수의 특징\n",
        "- 벡터화(Vectorization): 유니버설 함수는 배열의 각 요소에 대해 연산을 수행하므로, Python의 기본 루프보다 훨씬 빠른 성능을 제공합니다.\n",
        "- 타입 캐스팅(Type Casting): 유니버설 함수는 연산 결과를 저장할 적절한 출력 데이터 타입을 자동으로 결정합니다.\n",
        "- 출력 지정(Output Specification): 유니버설 함수는 연산 결과를 저장할 기존 배열을 지정할 수 있습니다, 이를 통해 메모리 할당을 최적화할 수 있습니다.\n",
        "- 데이터 유형(Data Type): 유니버설 함수는 다양한 데이터 유형에 대해 연산을 수행할 수 있습니다."
      ],
      "metadata": {
        "id": "58SUf5XphU_q"
      }
    },
    {
      "cell_type": "code",
      "source": [
        "# 배열 생성\n",
        "arr1 = np.array([1, 2, 3, 4])\n",
        "arr2 = np.array([5, 6, 7, 8])\n",
        "\n",
        "# 유니버설 함수 사용 예제\n",
        "result_add = np.add(arr1, arr2)  # 배열의 덧셈\n",
        "result_subtract = np.subtract(arr1, arr2)  # 배열의 뺄셈\n",
        "result_multiply = np.multiply(arr1, arr2)  # 배열의 곱셈\n",
        "result_divide = np.divide(arr1, arr2)  # 배열의 나눗셈\n",
        "\n",
        "print(f\"add: {result_add}\")\n",
        "print(f\"subtract: {result_subtract}\")\n",
        "print(f\"multiply: {result_multiply}\")\n",
        "print(f\"divide: {result_divide}\")"
      ],
      "metadata": {
        "id": "N-t5uLEvhUng"
      },
      "execution_count": null,
      "outputs": []
    },
    {
      "cell_type": "code",
      "source": [
        "result_add = np.add(arr1, 5)\n",
        "print(f\"add: {result_add}\")"
      ],
      "metadata": {
        "id": "WKPyVByki8Qz"
      },
      "execution_count": null,
      "outputs": []
    },
    {
      "cell_type": "code",
      "source": [
        "result_add = np.add(arr1, [[5], [6], [7], [8]])\n",
        "print(f\"add: {result_add}\")"
      ],
      "metadata": {
        "id": "UDWI0J5LjfCn"
      },
      "execution_count": null,
      "outputs": []
    },
    {
      "cell_type": "code",
      "source": [
        "# 다른 유니버설 함수 예제\n",
        "result_exp = np.exp(arr1)  # 지수 함수\n",
        "result_log = np.log(arr1)  # 로그 함수\n",
        "result_sqrt = np.sqrt(arr1)  # 제곱근 함수\n",
        "\n",
        "print(f\"exp: {result_exp}\")\n",
        "print(f\"log: {result_log}\")\n",
        "print(f\"sqrt: {result_sqrt}\")"
      ],
      "metadata": {
        "id": "Iz2-oLqmjqAn"
      },
      "execution_count": null,
      "outputs": []
    },
    {
      "cell_type": "markdown",
      "source": [
        "## 행렬의 내적\n",
        "행렬에서의 곱은 (dot product) 내적이라고 합니다.\n",
        "\n",
        "𝑥 ⋅ 𝑤 = 𝑦\n",
        "\n",
        "이를 코드로는 다음과 같이 표기할 수 있습니다.\n",
        "```python\n",
        "y = x @ w\n",
        "```\n",
        "\n",
        "![행렬의 내적](https://github.com/jphan32/CVTrack-Tutorials/blob/main/resources/arr_multiply.png?raw=true)"
      ],
      "metadata": {
        "id": "Z_9naSXhlgaq"
      }
    },
    {
      "cell_type": "code",
      "source": [
        "print(f\"arr1: {arr1}\")\n",
        "print(f\"arr2: {arr2}\")"
      ],
      "metadata": {
        "id": "9QbGAl9tqlnG"
      },
      "execution_count": null,
      "outputs": []
    },
    {
      "cell_type": "code",
      "source": [
        "#result_multiply = np.multiply(arr1, arr2)\n",
        "\n",
        "result_multiply = arr1 @ arr2\n",
        "print(f\"multiply: {result_multiply}\")"
      ],
      "metadata": {
        "id": "N1OhFX4KpqTA"
      },
      "execution_count": null,
      "outputs": []
    },
    {
      "cell_type": "code",
      "source": [
        "result_multiply = np.dot(arr1, arr2)\n",
        "print(f\"multiply: {result_multiply}\")"
      ],
      "metadata": {
        "id": "ainaEkTSqinD"
      },
      "execution_count": null,
      "outputs": []
    },
    {
      "cell_type": "markdown",
      "source": [
        "### 행렬 연산의 차이 자세히 알아보기\n",
        "#### 행렬의 덧셈\n",
        "- 행렬 덧셈은 두 행렬의 같은 위치에 있는 요소들끼리 더하는 연산입니다.\n",
        "- 두 행렬 A와 B의 덧셈은 A와 B가 동일한 차원을 가져야 하며, 결과 행렬 C의 각 요소 c_ij는 a_ij + b_ij로 계산됩니다.\n",
        "```plaintext\n",
        "A = | 1 2 |      B = | 4 5 |      A + B = | (1+4) (2+5) |\n",
        "      | 3 4 |          | 6 7 |              | (3+6) (4+7) |\n",
        "```\n",
        "\n",
        "#### 행렬의 곱셈\n",
        "- 엄밀하게는, 요소별 곱셈을 나타내기 위해 \"element-wise multiplication\" 이라고 명확히 부를 수 있습니다.\n",
        "- 행렬의 곱셈은 두 행렬의 같은 위치에 있는 요소들끼리 곱하는 연산입니다.\n",
        "- 두 행렬 A와 B의 곱셈은 A와 B가 동일한 차원을 가져야 하며, 결과 행렬 C의 각 요소 c_ij는 a_ij * b_ij로 계산됩니다.\n",
        "```plaintext\n",
        "A = | 1 2 |      B = | 4 5 |      A ⊙ B = | (1*4) (2*5) |\n",
        "      | 3 4 |          | 6 7 |              | (3*6) (4*7) |\n",
        "```\n",
        "\n",
        "#### 행렬의 내적\n",
        "- 종종 행렬의 내적 (matrix dot product)은 행렬의 곱셈(matrix multiplication)이라고도 불립니다.\n",
        "- 행렬의 내적은 첫 번째 행렬의 각 행과 두 번째 행렬의 각 열 간의 내적을 계산하는 연산입니다.\n",
        "- 첫 번째 행렬 A의 열의 수와 두 번째 행렬 B의 행의 수가 일치해야 하며, 결과 행렬 C의 각 요소 c_ij는 a_i의 행과 b_j의 열의 내적으로 계산됩니다.\n",
        "```plaintext\n",
        "A = | 1 2 |      B = | 4 5 |      A @ B = | (1*4 + 2*6) (1*5 + 2*7) |\n",
        "      | 3 4 |          | 6 7 |              | (3*4 + 4*6) (3*5 + 4*7) |\n",
        "```"
      ],
      "metadata": {
        "id": "2iC7aFpwrBMx"
      }
    },
    {
      "cell_type": "markdown",
      "source": [
        "## 행렬 전치\n",
        "- 행렬의 전치(transpose)는 행렬의 행과 열을 바꾸는 연산입니다.\n",
        "- NumPy에서는 numpy.transpose 함수 또는 ndarray.T 속성을 사용하여 행렬의 전치를 수행할 수 있습니다."
      ],
      "metadata": {
        "id": "GsFqIDaOz3o6"
      }
    },
    {
      "cell_type": "code",
      "source": [
        "# 3x2 행렬 생성\n",
        "matrix = np.array([[1, 2], [3, 4], [5, 6]])\n",
        "print(\"Original Matrix:\\n\", matrix)\n",
        "\n",
        "# 행렬 전치\n",
        "transposed_matrix = np.transpose(matrix)\n",
        "print(\"\\nTransposed Matrix:\\n\", transposed_matrix)"
      ],
      "metadata": {
        "id": "Sm-GYEQ80ary"
      },
      "execution_count": null,
      "outputs": []
    },
    {
      "cell_type": "code",
      "source": [
        "# 3x2 행렬 생성\n",
        "matrix = np.array([[1, 2], [3, 4], [5, 6]])\n",
        "print(\"Original Matrix:\\n\", matrix)\n",
        "\n",
        "# 행렬 전치\n",
        "transposed_matrix = matrix.T\n",
        "print(\"\\nTransposed Matrix:\\n\", transposed_matrix)"
      ],
      "metadata": {
        "id": "tfG3V8_G0d3t"
      },
      "execution_count": null,
      "outputs": []
    },
    {
      "cell_type": "code",
      "source": [
        "#@title [문제] 행렬의 전치를 이용하여 내적 계산하기\n",
        "\n",
        "# 두 개의 3차원 벡터 생성\n",
        "vector_a = np.random.rand(3, 2)  # 3x2 벡터\n",
        "vector_b = np.random.rand(3, 2)  # 3x2 벡터\n",
        "\n",
        "# 벡터_a의 전치를 사용하여 벡터_a와 벡터_b의 내적 계산\n",
        "dot_product = CODE_HERE # (2x3) dot (3x2) -> 2x2 매트릭스\n",
        "print(\"Dot Product:\\n\", dot_product)"
      ],
      "metadata": {
        "id": "1deiJXoK0jEN"
      },
      "execution_count": null,
      "outputs": []
    },
    {
      "cell_type": "markdown",
      "source": [
        "## Numpy로 행렬 내적 연산 하기\n",
        "\n",
        "다음과 같은 입력 레이어와 히든 레이어, 출력 레이어가 있다고 하였을 때\n",
        "\n",
        "이를 Numpy의 내적 연산을 이용하여 출력을 구해보세요.\n",
        "\n",
        "![MNIST MLP 구조](https://github.com/jphan32/CVTrack-Tutorials/blob/main/resources/mnist_mlp.jpg?raw=true)"
      ],
      "metadata": {
        "id": "tp3QW9Ejw-7C"
      }
    },
    {
      "cell_type": "code",
      "source": [
        "#@title [문제] MNIST MLP 구조 만들어보기\n",
        "\n",
        "# 784차원의 입력 벡터 생성\n",
        "x = np.random.rand(784, 1)  # 예를 들어, 랜덤 값으로 초기화\n",
        "print(f\"x shape: {x.shape}\")\n",
        "\n",
        "# 히든 레이어의 가중치 행렬과 편향 벡터 생성\n",
        "W1 = np.random.rand( NUMBER_HERE, NUMBER_HERE )  # 예를 들어, 랜덤 값으로 초기화\n",
        "b1 = np.random.rand( NUMBER_HERE, NUMBER_HERE )  # 예를 들어, 랜덤 값으로 초기화\n",
        "\n",
        "# 히든 레이어의 출력 계산\n",
        "h1 = CODE_HERE       # h1 = W1 * x + b1\n",
        "print(f\"h1 shape: {h1.shape}\")\n",
        "\n",
        "# 출력 레이어의 가중치 행렬과 편향 벡터 생성\n",
        "W2 = np.random.rand( NUMBER_HERE, NUMBER_HERE )  # 예를 들어, 랜덤 값으로 초기화\n",
        "b2 = np.random.rand( NUMBER_HERE, NUMBER_HERE )  # 예를 들어, 랜덤 값으로 초기화\n",
        "\n",
        "# 출력 레이어의 출력 계산\n",
        "y =  CODE_HERE       # y = W2 * h1 + b2\n",
        "\n",
        "# 출력 값 출력\n",
        "print(f\"y shape: {y.shape}\")"
      ],
      "metadata": {
        "id": "DJ0goDq-yBDd"
      },
      "execution_count": null,
      "outputs": []
    }
  ]
}