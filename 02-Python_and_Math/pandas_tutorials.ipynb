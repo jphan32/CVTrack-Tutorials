{
  "nbformat": 4,
  "nbformat_minor": 0,
  "metadata": {
    "colab": {
      "provenance": []
    },
    "kernelspec": {
      "name": "python3",
      "display_name": "Python 3"
    },
    "language_info": {
      "name": "python"
    }
  },
  "cells": [
    {
      "cell_type": "markdown",
      "source": [
        "# Pandas Basic\n",
        "\n",
        "Pandas는 데이터 분석 및 조작을 위한 높은 수준의 라이브러리입니다.\n",
        "\n",
        "Pandas는 두 가지 주요 데이터 구조, 즉 시리즈(Series)와 데이터프레임(DataFrame)을 제공하여 데이터를 효과적으로 조작하고 분석할 수 있습니다.\n",
        "\n",
        "딥러닝 모델 학습에서 Pandas는 데이터 전처리, 탐색적 데이터 분석(EDA), 피처 엔지니어링 등 다양한 작업을 수행하는 데 사용됩니다."
      ],
      "metadata": {
        "id": "5JzBnqRI7P11"
      }
    },
    {
      "cell_type": "code",
      "execution_count": null,
      "metadata": {
        "id": "s_SsLxq86fBg"
      },
      "outputs": [],
      "source": [
        "#@title Pandas 라이브러리 불러오기\n",
        "\n",
        "import pandas as pd\n",
        "import numpy as np"
      ]
    },
    {
      "cell_type": "markdown",
      "source": [
        "## Pandas의 데이터 구조\n",
        "Pandas는 데이터 조작 및 분석을 위한 고성능의 오픈소스 라이브러리입니다.\n",
        "\n",
        "Pandas의 핵심 구성 요소는 Series와 DataFrame 두 가지 데이터 구조로 구성되어 있습니다."
      ],
      "metadata": {
        "id": "kOMl2i8E7klM"
      }
    },
    {
      "cell_type": "code",
      "source": [
        "#@title Series\n",
        "\n",
        "# Series 생성\n",
        "s = pd.Series([1, 2, 3, 4, 5], index=['a', 'b', 'c', 'd', 'e'])\n",
        "print(s)"
      ],
      "metadata": {
        "id": "oX1J9jwJ7wPd"
      },
      "execution_count": null,
      "outputs": []
    },
    {
      "cell_type": "code",
      "source": [
        "#@title DataFrame\n",
        "\n",
        "# DataFrame 생성\n",
        "data = {'Name': ['Alice', 'Bob', 'Charlie'],\n",
        "        'Age': [25, 30, 35],\n",
        "        'City': ['New York', 'Los Angeles', 'Chicago']}\n",
        "df = pd.DataFrame(data)\n",
        "print(df)"
      ],
      "metadata": {
        "id": "JGDubg7J74SQ"
      },
      "execution_count": null,
      "outputs": []
    },
    {
      "cell_type": "code",
      "source": [
        "#@title CSV 데이터 불러오기 / 저장하기\n",
        "\n",
        "# CSV 파일에서 데이터 불러오기\n",
        "df_csv = pd.read_csv('sample_data/california_housing_train.csv')\n",
        "\n",
        "# DataFrame을 CSV 파일로 저장\n",
        "df.to_csv('output.csv', index=False)"
      ],
      "metadata": {
        "id": "bS2vmL1n7_dv"
      },
      "execution_count": null,
      "outputs": []
    },
    {
      "cell_type": "code",
      "source": [
        "#@title DataFrame 출력해보기\n",
        "\n",
        "# 처음 n개의 행 출력\n",
        "df_csv.head()"
      ],
      "metadata": {
        "id": "EJ776jhC8ftL"
      },
      "execution_count": null,
      "outputs": []
    },
    {
      "cell_type": "code",
      "source": [
        "# 열 이름 출력\n",
        "print(df_csv.columns)"
      ],
      "metadata": {
        "id": "6ObzZcfM9RqN"
      },
      "execution_count": null,
      "outputs": []
    },
    {
      "cell_type": "code",
      "source": [
        "# 마지막 n개의 행 출력\n",
        "print(df_csv.tail(3))"
      ],
      "metadata": {
        "id": "7Ha1r4Kw83rc"
      },
      "execution_count": null,
      "outputs": []
    },
    {
      "cell_type": "code",
      "source": [
        "# DataFrame 정보 출력\n",
        "df_csv.info()"
      ],
      "metadata": {
        "id": "gweYaAri9B1N"
      },
      "execution_count": null,
      "outputs": []
    },
    {
      "cell_type": "code",
      "source": [
        "# DataFrame 통계정보 출력\n",
        "print(df_csv.describe())"
      ],
      "metadata": {
        "id": "UicFN_YP9Gxu"
      },
      "execution_count": null,
      "outputs": []
    },
    {
      "cell_type": "code",
      "source": [
        "# 'housing_median_age' 열의 값 빈도 출력\n",
        "df_csv['housing_median_age'].value_counts()"
      ],
      "metadata": {
        "id": "v5s1Zd6n9psX"
      },
      "execution_count": null,
      "outputs": []
    },
    {
      "cell_type": "markdown",
      "source": [
        "## Pandas의 데이터 조작\n",
        "\n",
        "- 기본적인 데이터 조작 : 인덱싱, 슬라이싱, 필터링을 통해 데이터를 조작할 수 있습니다.\n",
        "- iloc() : 정수 기반 인덱싱입니다. 행과 열의 인덱스 번호를 사용하여 데이터를 선택합니다.\n",
        "- loc() : 레이블 기반 인덱싱입니다. 행과 열의 레이블 이름을 사용하여 데이터를 선택합니다."
      ],
      "metadata": {
        "id": "Pi1PRhNdAAtl"
      }
    },
    {
      "cell_type": "code",
      "source": [
        "# 데이터 생성\n",
        "data = {\n",
        "    'Name': ['Alice', 'Bob', 'Charlie', 'David'],\n",
        "    'Age': [24, 27, 22, 32],\n",
        "    'City': ['New York', 'Los Angeles', 'Chicago', 'Houston']\n",
        "}\n",
        "df = pd.DataFrame(data)\n",
        "df"
      ],
      "metadata": {
        "id": "PtPAth4lAvXd"
      },
      "execution_count": null,
      "outputs": []
    },
    {
      "cell_type": "code",
      "source": [
        "#@title 데이터 조작\n",
        "\n",
        "# 인덱싱\n",
        "print(df['Name'])  # 'Name' 열 선택\n",
        "print()\n",
        "\n",
        "# 슬라이싱\n",
        "print(df[0:2])  # 첫 번째와 두 번째 행 선택\n",
        "print()\n",
        "\n",
        "# 필터링 1\n",
        "print(df[df['Age'] > 30])  # 'Age'가 30 초과인 행 선택\n",
        "print()\n",
        "\n",
        "# 필터링 2\n",
        "print(df.query('Age > 30'))  # 'Age'가 30 초과인 행 선택\n",
        "print()"
      ],
      "metadata": {
        "id": "IRSduab6AEcu"
      },
      "execution_count": null,
      "outputs": []
    },
    {
      "cell_type": "code",
      "source": [
        "#@title iloc()을 이용한 인덱싱\n",
        "\n",
        "# iloc 사용 예제\n",
        "print(df.iloc[1])  # 1번 인덱스 행 선택\n",
        "print()\n",
        "\n",
        "print(df.iloc[:, 1])  # 1번 인덱스 열 선택\n",
        "print()\n",
        "\n",
        "print(df.iloc[1:3, 0:2])  # 1~2 인덱스 행과 0~1 인덱스 열 선택\n",
        "print()"
      ],
      "metadata": {
        "id": "z1j9GzFLAdGe"
      },
      "execution_count": null,
      "outputs": []
    },
    {
      "cell_type": "code",
      "source": [
        "#@title loc()을 이용한 인덱싱\n",
        "\n",
        "# loc 사용 예제\n",
        "print(df.loc[1])  # 인덱스 레이블이 1인 행 선택\n",
        "print()\n",
        "\n",
        "print(df.loc[:, 'Age'])  # 'Age' 레이블 열 선택\n",
        "print()\n",
        "\n",
        "print(df.loc[1:2, 'Name':'Age'])  # 인덱스 레이블이 1~2인 행과 'Name'~'Age' 레이블 열 선택\n",
        "print()"
      ],
      "metadata": {
        "id": "vwcmFYa4AkyM"
      },
      "execution_count": null,
      "outputs": []
    },
    {
      "cell_type": "markdown",
      "source": [
        "## 시각화 및 EDA"
      ],
      "metadata": {
        "id": "-byArxly-eSw"
      }
    },
    {
      "cell_type": "markdown",
      "source": [
        "#### california_housing_train 데이터셋\n",
        "캘리포니아 주의 주택 가격에 대한 정보를 포함하고 있습니다.\n",
        "이 데이터셋은 여러 특성(columns)을 가지고 있으며, 각 특성은 주택 가격의 예측에 도움이 될 수 있는 다양한 정보를 제공합니다.\n",
        "\n",
        "- longitude: 주택의 경도를 나타냅니다.\n",
        "- latitude: 주택의 위도를 나타냅니다.\n",
        "- housing_median_age: 주택의 중앙값 연령을 나타냅니다.\n",
        "- total_rooms: 지역의 총 방 개수를 나타냅니다.\n",
        "- total_bedrooms: 지역의 총 침실 수를 나타냅니다.\n",
        "- population: 지역의 인구를 나타냅니다.\n",
        "- households: 지역의 가구 수를 나타냅니다.\n",
        "- median_income: 지역의 중앙값 소득을 나타냅니다.\n",
        "- median_house_value: 주택의 중앙값 가격을 나타냅니다. 이 값은 우리가 예측하려는 목표 변수(target variable)입니다."
      ],
      "metadata": {
        "id": "LMOtZEHgQ3Ad"
      }
    },
    {
      "cell_type": "code",
      "source": [
        "#@title 산점도 그래프 그려보기\n",
        "\n",
        "#@markdown 캘리포니아\n",
        "\n",
        "#@markdown ![California](https://github.com/jphan32/CVTrack-Tutorials/blob/main/resources/california.png?raw=true)\n",
        "\n",
        "import seaborn as sns\n",
        "import matplotlib.pyplot as plt\n",
        "\n",
        "sns.scatterplot(data=df_csv, x='longitude', y='latitude')\n",
        "plt.show()"
      ],
      "metadata": {
        "id": "KjMDiEghRgkq"
      },
      "execution_count": null,
      "outputs": []
    },
    {
      "cell_type": "code",
      "source": [
        "#@title 상관분석 그래프 그려보기\n",
        "import seaborn as sns\n",
        "import matplotlib.pyplot as plt\n",
        "\n",
        "# 상관 분석\n",
        "correlation_matrix = df_csv.corr()\n",
        "sns.heatmap(data=correlation_matrix, annot=True)\n",
        "plt.show()"
      ],
      "metadata": {
        "id": "0CD35EmTPXqe"
      },
      "execution_count": null,
      "outputs": []
    },
    {
      "cell_type": "code",
      "source": [
        "#@title 빈도값 그래프 그려보기\n",
        "import seaborn as sns\n",
        "import matplotlib.pyplot as plt\n",
        "\n",
        "# 그래프 크기 설정\n",
        "plt.figure(figsize=(15, 5))\n",
        "\n",
        "# 'City' 열의 값 빈도 계산 / 빈도 그래프 그리기\n",
        "value_counts = df_csv['housing_median_age'].value_counts()\n",
        "value_counts.plot(kind='bar')\n",
        "\n",
        "## Seaborn을 사용하여 'housing_median_age' 열의 값에 대한 빈도 그래프 그리기\n",
        "#sns.countplot(data=df_csv, x='housing_median_age')\n",
        "\n",
        "# x축 레이블을 대각선 방향으로 회전\n",
        "plt.xticks(rotation=45)\n",
        "\n",
        "# 그래프 출력\n",
        "plt.show()"
      ],
      "metadata": {
        "id": "IGeIRRWS-ftW"
      },
      "execution_count": null,
      "outputs": []
    },
    {
      "cell_type": "markdown",
      "source": [
        "## 딥러닝 모델 학습을 위한 Pandas 활용\n",
        "딥러닝 모델을 학습시키기 전에 데이터를 정제하고 준비하는 단계가 필요합니다.\n",
        "\n",
        "Pandas는 이러한 전처리 작업을 수행하기에 유용한 도구입니다."
      ],
      "metadata": {
        "id": "RNsBY48oBl0S"
      }
    },
    {
      "cell_type": "markdown",
      "source": [
        "### 결측치 처리\n",
        "데이터에 결측치가 있는 경우, 이를 처리해야 합니다. 결측치를 제거하거나 다른 값으로 채울 수 있습니다."
      ],
      "metadata": {
        "id": "W9FsyPtZCIAh"
      }
    },
    {
      "cell_type": "code",
      "source": [
        "# 데이터 생성\n",
        "data = {\n",
        "    'A': [1, 2, None, 4],\n",
        "    'B': [5, None, None, 8],\n",
        "    'C': [9, 10, 11, 12]\n",
        "}\n",
        "df = pd.DataFrame(data)\n",
        "df"
      ],
      "metadata": {
        "id": "69-4jAR8Bwgk"
      },
      "execution_count": null,
      "outputs": []
    },
    {
      "cell_type": "code",
      "source": [
        "# 결측치 제거\n",
        "df_dropna = df.dropna()\n",
        "df_dropna"
      ],
      "metadata": {
        "id": "GwTt2NzZB9gS"
      },
      "execution_count": null,
      "outputs": []
    },
    {
      "cell_type": "code",
      "source": [
        "# 결측치를 0으로 채우기\n",
        "df_fillna = df.fillna(0)\n",
        "df_fillna"
      ],
      "metadata": {
        "id": "nMdFQenEB9XP"
      },
      "execution_count": null,
      "outputs": []
    },
    {
      "cell_type": "markdown",
      "source": [
        "### 이상치 처리\n",
        "이상치는 데이터 세트에서 통계적으로 이상한 값으로, 이러한 값들은 데이터 분석이나 모델 학습에 부정적인 영향을 미칠 수 있습니다.\n",
        "\n",
        "이상치를 식별하고 처리하는 것은 데이터 전처리의 중요한 단계입니다.\n",
        "\n",
        "이상치는 여러 방법으로 처리할 수 있으며, 이상치를 제거하거나 다른 값으로 대체하는 것이 일반적입니다.\n",
        "\n",
        "아래 예제 코드는 Pandas를 사용하여 이상치를 식별하고 처리하는 방법을 보여줍니다."
      ],
      "metadata": {
        "id": "H0ERPB3REDVC"
      }
    },
    {
      "cell_type": "code",
      "source": [
        "sns.displot(data=df_csv, x='total_rooms', bins=100)"
      ],
      "metadata": {
        "id": "ayXrxOdpGqaT"
      },
      "execution_count": null,
      "outputs": []
    },
    {
      "cell_type": "markdown",
      "source": [
        "#### Z-score를 사용한 이상치 식별\n",
        "Z-score는 각 데이터 포인트가 평균으로부터 얼마나 떨어져 있는지를 나타내는 값입니다.\n",
        "\n",
        "통계적으로, Z-score가 3 또는 -3보다 크거나 작은 데이터 포인트는 이상치로 간주할 수 있습니다.\n",
        "\n",
        "![Z-score](https://github.com/jphan32/CVTrack-Tutorials/blob/main/resources/z-score.jpg?raw=true)"
      ],
      "metadata": {
        "id": "IMGfNbJSEXZo"
      }
    },
    {
      "cell_type": "code",
      "source": [
        "# Z-score 계산:  Z-score = |(x - mean) / std|\n",
        "df_csv_with_zscore = df_csv.assign(tr_zscore = lambda x: x.total_rooms.sub(x.total_rooms.mean()).div(x.total_rooms.std()).abs())\n",
        "df_csv_with_zscore.head()"
      ],
      "metadata": {
        "id": "f1ZwhNHIEd0J"
      },
      "execution_count": null,
      "outputs": []
    },
    {
      "cell_type": "code",
      "source": [
        "sns.displot(data=df_csv_with_zscore, x='tr_zscore', bins=100)"
      ],
      "metadata": {
        "id": "WbaXVOw8JUfA"
      },
      "execution_count": null,
      "outputs": []
    },
    {
      "cell_type": "code",
      "source": [
        "# 이상치 필터링\n",
        "sns.displot(data=df_csv_with_zscore.query('tr_zscore <= 3.'), x='total_rooms', bins=100)"
      ],
      "metadata": {
        "id": "7B0Licy4JyUd"
      },
      "execution_count": null,
      "outputs": []
    },
    {
      "cell_type": "markdown",
      "source": [
        "#### IQR을 사용한 이상치 식별\n",
        "IQR(Interquartile Range)은 데이터의 분포를 나타내며, 데이터 분포의 중간 50% 범위를 나타냅니다.\n",
        "\n",
        "IQR은 데이터의 중앙값 주변의 분포를 측정하며, 이는 데이터의 분산이나 이상치에 대해 좀 더 견고한(robust) 측정값을 제공합니다.\n",
        "\n",
        "IQR의 1.5배 이상 떨어진 데이터 포인트는 이상치로 간주할 수 있습니다.\n",
        "\n",
        "![iqr](https://github.com/jphan32/CVTrack-Tutorials/blob/main/resources/iqr.png?raw=true)"
      ],
      "metadata": {
        "id": "X2q5s7k9K851"
      }
    },
    {
      "cell_type": "code",
      "source": [
        "# 분포 확인\n",
        "df_csv['total_rooms'].describe()"
      ],
      "metadata": {
        "id": "uGVkQy6GNX8i"
      },
      "execution_count": null,
      "outputs": []
    },
    {
      "cell_type": "code",
      "source": [
        "# IQR 계산\n",
        "Q1 = df_csv['total_rooms'].quantile(0.25)\n",
        "Q3 = df_csv['total_rooms'].quantile(0.75)\n",
        "IQR = Q3 - Q1\n",
        "IQR"
      ],
      "metadata": {
        "id": "DKhcB5BAK99z"
      },
      "execution_count": null,
      "outputs": []
    },
    {
      "cell_type": "code",
      "source": [
        "# 이상치 제거\n",
        "condition = ~((df_csv['total_rooms'] < (Q1 - 1.5 * IQR)) | (df_csv['total_rooms'] > (Q3 + 1.5 * IQR)))\n",
        "df_no_outliers = df_csv[condition]\n",
        "df_no_outliers['total_rooms'].describe()"
      ],
      "metadata": {
        "id": "qN9mQop5LPad"
      },
      "execution_count": null,
      "outputs": []
    },
    {
      "cell_type": "code",
      "source": [
        "# 이상치 필터링\n",
        "sns.displot(data=df_no_outliers, x='total_rooms', bins=100)"
      ],
      "metadata": {
        "id": "DZ9UN5VSLZgQ"
      },
      "execution_count": null,
      "outputs": []
    },
    {
      "cell_type": "markdown",
      "source": [
        "### 범주형 데이터 인코딩\n",
        "범주형 데이터는 모델 학습에 사용하기 위해 수치 데이터로 변환되어야 합니다.\n",
        "\n",
        "#### One-hot encoding\n",
        "![One-hot encoding](https://github.com/jphan32/CVTrack-Tutorials/blob/main/resources/one_hot.png?raw=true)"
      ],
      "metadata": {
        "id": "Qwfmyh83CPUV"
      }
    },
    {
      "cell_type": "code",
      "source": [
        "# 예제 데이터\n",
        "data = {'Category': ['Cat', 'Dog', 'Turtle', 'Fish', 'Cat']}\n",
        "df = pd.DataFrame(data)\n",
        "df"
      ],
      "metadata": {
        "id": "qUUtDEQzDSYf"
      },
      "execution_count": null,
      "outputs": []
    },
    {
      "cell_type": "code",
      "source": [
        "# 원-핫 인코딩\n",
        "one_hot_encoded_df = pd.get_dummies(df, columns=['Category'])\n",
        "one_hot_encoded_df"
      ],
      "metadata": {
        "id": "thXAJx11DY63"
      },
      "execution_count": null,
      "outputs": []
    }
  ]
}